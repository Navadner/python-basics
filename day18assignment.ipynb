{
 "cells": [
  {
   "cell_type": "code",
   "execution_count": 4,
   "id": "3d9d93f4",
   "metadata": {},
   "outputs": [
    {
     "name": "stdout",
     "output_type": "stream",
     "text": [
      "Webpage Title: Example Domain\n"
     ]
    }
   ],
   "source": [
    "import requests\n",
    "from bs4 import BeautifulSoup\n",
    "\n",
    "def fetch_webpage_title(url):\n",
    "    try:\n",
    "        # Send a GET request to the URL\n",
    "        response = requests.get(url)\n",
    "        \n",
    "        # Check if the request was successful\n",
    "        if response.status_code == 200:\n",
    "            # Parse the webpage content with BeautifulSoup\n",
    "            soup = BeautifulSoup(response.text, 'html.parser')\n",
    "            \n",
    "            # Extract the title tag\n",
    "            title = soup.title.string if soup.title else \"No title found\"\n",
    "            \n",
    "            return title\n",
    "        else:\n",
    "            return f\"Failed to fetch webpage. HTTP Status Code: {response.status_code}\"\n",
    "    except Exception as e:\n",
    "        return f\"An error occurred: {e}\"\n",
    "\n",
    "# Test the function with the given URL\n",
    "url = 'https://example.com'\n",
    "webpage_title = fetch_webpage_title(url)\n",
    "\n",
    "# Print the title\n",
    "print(\"Webpage Title:\", webpage_title)\n"
   ]
  },
  {
   "cell_type": "code",
   "execution_count": null,
   "id": "a9fb09e0",
   "metadata": {},
   "outputs": [],
   "source": []
  }
 ],
 "metadata": {
  "kernelspec": {
   "display_name": "Python 3 (ipykernel)",
   "language": "python",
   "name": "python3"
  },
  "language_info": {
   "codemirror_mode": {
    "name": "ipython",
    "version": 3
   },
   "file_extension": ".py",
   "mimetype": "text/x-python",
   "name": "python",
   "nbconvert_exporter": "python",
   "pygments_lexer": "ipython3",
   "version": "3.11.4"
  }
 },
 "nbformat": 4,
 "nbformat_minor": 5
}
