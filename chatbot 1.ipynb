{
  "nbformat": 4,
  "nbformat_minor": 0,
  "metadata": {
    "colab": {
      "provenance": []
    },
    "kernelspec": {
      "name": "python3",
      "display_name": "Python 3"
    },
    "language_info": {
      "name": "python"
    }
  },
  "cells": [
    {
      "cell_type": "code",
      "source": [
        "sentence = input()"
      ],
      "metadata": {
        "id": "rogswbLxWPKp",
        "colab": {
          "base_uri": "https://localhost:8080/"
        },
        "outputId": "a588ecc0-31aa-465f-b592-c8c98461ae90"
      },
      "execution_count": 32,
      "outputs": [
        {
          "name": "stdout",
          "output_type": "stream",
          "text": [
            "teSt sentence\n"
          ]
        }
      ]
    },
    {
      "cell_type": "code",
      "source": [
        "exit_words = [\"esc\",\"quit\",\"stop\",\"exit\"]"
      ],
      "metadata": {
        "id": "0shzESykI3LI"
      },
      "execution_count": 33,
      "outputs": []
    },
    {
      "cell_type": "code",
      "source": [
        "def lowercase(sent):\n",
        "  return sent.lower()"
      ],
      "metadata": {
        "id": "2RwTXCa6JAmZ"
      },
      "execution_count": 34,
      "outputs": []
    },
    {
      "cell_type": "code",
      "source": [
        "x = lowercase(sentence)\n",
        "print(x)"
      ],
      "metadata": {
        "colab": {
          "base_uri": "https://localhost:8080/"
        },
        "id": "d0xAItwMKLT8",
        "outputId": "708b08c0-6ce5-44f8-85ec-cadcbb577ad8"
      },
      "execution_count": 35,
      "outputs": [
        {
          "output_type": "stream",
          "name": "stdout",
          "text": [
            "test sentence\n"
          ]
        }
      ]
    },
    {
      "cell_type": "code",
      "source": [
        "def uppercase(sent):\n",
        "  return sent.upper()"
      ],
      "metadata": {
        "id": "qibZGZQFLkwh"
      },
      "execution_count": 36,
      "outputs": []
    },
    {
      "cell_type": "code",
      "source": [
        "y = uppercase(sentence)\n",
        "print(y)"
      ],
      "metadata": {
        "colab": {
          "base_uri": "https://localhost:8080/"
        },
        "id": "sQcJGpq6Lq2L",
        "outputId": "a5c1c6f1-4b6d-4987-9e50-9f822cb26f0d"
      },
      "execution_count": 37,
      "outputs": [
        {
          "output_type": "stream",
          "name": "stdout",
          "text": [
            "TEST SENTENCE\n"
          ]
        }
      ]
    },
    {
      "cell_type": "code",
      "source": [
        "uppercase(\"jftrhjvhg\")"
      ],
      "metadata": {
        "colab": {
          "base_uri": "https://localhost:8080/",
          "height": 35
        },
        "id": "489oMobbL1lc",
        "outputId": "52f63479-3fe9-4fdf-fd06-4cdfbbe4f1b3"
      },
      "execution_count": 38,
      "outputs": [
        {
          "output_type": "execute_result",
          "data": {
            "text/plain": [
              "'JFTRHJVHG'"
            ],
            "application/vnd.google.colaboratory.intrinsic+json": {
              "type": "string"
            }
          },
          "metadata": {},
          "execution_count": 38
        }
      ]
    },
    {
      "cell_type": "code",
      "source": [
        "x = input()\n",
        "while x not in exit_words:\n",
        "  choice = input(\"give 1 or 2 option : \")\n",
        "  if choice == \"1\":\n",
        "    print(lowercase(x))\n",
        "  elif choice == \"2\":\n",
        "    print(uppercase(x))\n",
        "  else:\n",
        "    print(\"invalid choice\")"
      ],
      "metadata": {
        "colab": {
          "base_uri": "https://localhost:8080/"
        },
        "id": "GORi0WjIPR4U",
        "outputId": "0b26888b-46d2-458f-b552-1d93bd2fed68"
      },
      "execution_count": 39,
      "outputs": [
        {
          "name": "stdout",
          "output_type": "stream",
          "text": [
            "quit\n"
          ]
        }
      ]
    },
    {
      "cell_type": "code",
      "source": [
        "stop_word = [\"and\",\"for\"]"
      ],
      "metadata": {
        "id": "0UQ-fLUbP_27"
      },
      "execution_count": 40,
      "outputs": []
    },
    {
      "cell_type": "code",
      "source": [
        "x = input()\n",
        "while x not in exit_words:\n",
        "  if x in stop_word:\n",
        "    stop_word.remove(x)\n",
        "  else:\n",
        "    choice = input(\"give 1 or 2 option : \")\n",
        "    if choice == \"1\":\n",
        "     print(lowercase(x))\n",
        "    elif choice == \"2\":\n",
        "      print(uppercase(x))\n",
        "    else:\n",
        "      print(\"invalid choice\")"
      ],
      "metadata": {
        "colab": {
          "base_uri": "https://localhost:8080/"
        },
        "id": "hG3RSo3WRedz",
        "outputId": "14a129da-dbcc-4eea-bc09-7c6dc23702b2"
      },
      "execution_count": null,
      "outputs": [
        {
          "metadata": {
            "tags": null
          },
          "name": "stdout",
          "output_type": "stream",
          "text": [
            "tea and snacks\n",
            "TEA AND SNACKS\n"
          ]
        }
      ]
    }
  ]
}