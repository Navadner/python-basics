{
 "cells": [
  {
   "cell_type": "code",
   "execution_count": 6,
   "id": "2df01ea7",
   "metadata": {},
   "outputs": [
    {
     "name": "stdout",
     "output_type": "stream",
     "text": [
      "Word           POS Tag\n",
      "-------------------------\n",
      "NLP            PROPN\n",
      "is             AUX\n",
      "amazing        ADJ\n",
      "and            CCONJ\n",
      "fun            ADJ\n",
      "to             PART\n",
      "learn          VERB\n",
      ".              PUNCT\n"
     ]
    }
   ],
   "source": [
    "import spacy\n",
    "\n",
    "def pos_tagging(sentence):\n",
    "    # Load the spaCy English language model\n",
    "    nlp = spacy.load(\"en_core_web_sm\")\n",
    "    \n",
    "    # Process the sentence\n",
    "    doc = nlp(sentence)\n",
    "    \n",
    "    # Print each word along with its POS tag\n",
    "    print(f\"{'Word':<15}{'POS Tag'}\")\n",
    "    print(\"-\" * 25)\n",
    "    for token in doc:\n",
    "        print(f\"{token.text:<15}{token.pos_}\")\n",
    "\n",
    "# Input sentence\n",
    "sentence = \"NLP is amazing and fun to learn.\"\n",
    "\n",
    "# Perform POS tagging\n",
    "pos_tagging(sentence)\n"
   ]
  },
  {
   "cell_type": "code",
   "execution_count": null,
   "id": "c44c598e",
   "metadata": {},
   "outputs": [],
   "source": []
  }
 ],
 "metadata": {
  "kernelspec": {
   "display_name": "Python 3 (ipykernel)",
   "language": "python",
   "name": "python3"
  },
  "language_info": {
   "codemirror_mode": {
    "name": "ipython",
    "version": 3
   },
   "file_extension": ".py",
   "mimetype": "text/x-python",
   "name": "python",
   "nbconvert_exporter": "python",
   "pygments_lexer": "ipython3",
   "version": "3.11.4"
  }
 },
 "nbformat": 4,
 "nbformat_minor": 5
}
