{
 "cells": [
  {
   "cell_type": "code",
   "execution_count": 1,
   "id": "e163be31",
   "metadata": {},
   "outputs": [
    {
     "name": "stdout",
     "output_type": "stream",
     "text": [
      "Enter the text: india is a great country\n",
      "india: 1\n",
      "is: 1\n",
      "a: 1\n",
      "great: 1\n",
      "country: 1\n"
     ]
    }
   ],
   "source": [
    "from collections import Counter\n",
    "\n",
    "def calculate_word_frequency(text):\n",
    "    # Convert the text to lowercase to ensure case-insensitive comparison\n",
    "    text = text.lower()\n",
    "    # Replace punctuation with spaces and split the text into words\n",
    "    words = text.split()\n",
    "    # Use Counter to count the frequency of each word\n",
    "    word_counts = Counter(words)\n",
    "    # Print each word and its count\n",
    "    for word, count in word_counts.items():\n",
    "        print(f\"{word}: {count}\")\n",
    "\n",
    "# Input text\n",
    "text = input(\"Enter the text: \")\n",
    "calculate_word_frequency(text)\n"
   ]
  },
  {
   "cell_type": "code",
   "execution_count": null,
   "id": "7d5d8dc4",
   "metadata": {},
   "outputs": [],
   "source": []
  }
 ],
 "metadata": {
  "kernelspec": {
   "display_name": "Python 3 (ipykernel)",
   "language": "python",
   "name": "python3"
  },
  "language_info": {
   "codemirror_mode": {
    "name": "ipython",
    "version": 3
   },
   "file_extension": ".py",
   "mimetype": "text/x-python",
   "name": "python",
   "nbconvert_exporter": "python",
   "pygments_lexer": "ipython3",
   "version": "3.11.4"
  }
 },
 "nbformat": 4,
 "nbformat_minor": 5
}
